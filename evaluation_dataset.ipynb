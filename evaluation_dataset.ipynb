{
 "cells": [
  {
   "cell_type": "code",
   "execution_count": 12,
   "metadata": {},
   "outputs": [],
   "source": [
    "from datasets import load_dataset\n",
    "import pandas as pd\n",
    "import os\n",
    "import json"
   ]
  },
  {
   "cell_type": "code",
   "execution_count": 13,
   "metadata": {},
   "outputs": [],
   "source": [
    "repository_directory = os.path.abspath('') + \"/repository\"\n",
    "models_jsons = os.listdir(repository_directory)"
   ]
  },
  {
   "cell_type": "code",
   "execution_count": 14,
   "metadata": {},
   "outputs": [],
   "source": [
    "dataset_model_dict = {}\n",
    "\n",
    "for model_file in models_jsons:\n",
    "    with open(repository_directory + \"/\" + model_file) as model_json:\n",
    "        data = json.load(model_json)\n",
    "        for dataset in data['dataset']:\n",
    "            if dataset not in dataset_model_dict:\n",
    "                dataset_model_dict[dataset] = []\n",
    "            \n",
    "            dataset_model_dict[dataset].append(data['model_name'])"
   ]
  },
  {
   "cell_type": "code",
   "execution_count": 26,
   "metadata": {},
   "outputs": [
    {
     "data": {
      "text/plain": [
       "{'squad_v2': ['mrm8488/longformer-base-4096-finetuned-squadv2',\n",
       "  'allenai/unifiedqa-t5-base',\n",
       "  'ixa-ehu/SciBERT-SQuAD-QuAC'],\n",
       " 'hotpot_qa': ['AdapterHub/roberta-base-pf-hotpotqa'],\n",
       " 'cuad': ['Rakib/roberta-base-on-cuad', 'akdeniz27/deberta-v2-xlarge-cuad'],\n",
       " 'trivia_qa': ['allenai/longformer-large-4096-finetuned-triviaqa'],\n",
       " 'squad': ['ozcangundes/T5-base-for-BioQA',\n",
       "  'MaRiOrOsSi/t5-base-finetuned-question-answering',\n",
       "  'vanadhi/roberta-base-fiqa-flm-sq-flit'],\n",
       " 'BeIR/bioasq-generated-queries': ['ozcangundes/T5-base-for-BioQA'],\n",
       " 'duorc': ['MaRiOrOsSi/t5-base-finetuned-question-answering',\n",
       "  'MaRiOrOsSi/t5-base-finetuned-question-answering'],\n",
       " 'pubmed_qa': ['razent/SciFive-base-Pubmed_PMC', 'microsoft/biogpt'],\n",
       " 'zhengyun21/PMC-Patients': ['razent/SciFive-base-Pubmed_PMC'],\n",
       " 'boolq': ['allenai/unifiedqa-t5-base'],\n",
       " 'race': ['allenai/unifiedqa-t5-base'],\n",
       " 'quoref': ['allenai/unifiedqa-t5-base'],\n",
       " 'ropes': ['allenai/unifiedqa-t5-base'],\n",
       " 'drop': ['allenai/unifiedqa-t5-base'],\n",
       " 'sagnikrayc/mctest': ['allenai/unifiedqa-t5-base'],\n",
       " 'qasc': ['allenai/unifiedqa-t5-base'],\n",
       " 'math_qa': ['AlexWortega/taskGPT2-xl-v0.2a'],\n",
       " 'gsm8k': ['AlexWortega/taskGPT2-xl-v0.2a'],\n",
       " 'covid_qa_deepset': ['Sarmila/pubmed-bert-squad-covidqa'],\n",
       " 'quac': ['ixa-ehu/SciBERT-SQuAD-QuAC']}"
      ]
     },
     "execution_count": 26,
     "metadata": {},
     "output_type": "execute_result"
    }
   ],
   "source": [
    "dataset_model_dict"
   ]
  },
  {
   "cell_type": "code",
   "execution_count": 16,
   "metadata": {},
   "outputs": [],
   "source": [
    "def sample_rows_from_dataset(dataset: str,\n",
    "                             column_names: tuple,\n",
    "                             *args,\n",
    "                             num_samples: int = 250,\n",
    "                             seed: int = 121,\n",
    "                             **kwargs) -> pd.DataFrame:    \n",
    "    if not isinstance(column_names, tuple):\n",
    "        raise Exception(\"Column names need to be a list of column names as strings.\")\n",
    "    try:\n",
    "        dataset = load_dataset(dataset, *args, split=\"test\")\n",
    "    except Exception as e:\n",
    "        print(\"Could NOT load dataset for {0}\".format(dataset))\n",
    "        raise Exception(\"Error while loading dataset {}\".format(e))\n",
    "    shuffled_dataset = dataset.shuffle(seed=seed)\n",
    "    df = pd.DataFrame(shuffled_dataset[:num_samples])\n",
    "    try:\n",
    "        return df[list(column_names)]\n",
    "    except KeyError as e:\n",
    "        raise e\n",
    "    \n",
    "    \n",
    "def sample_rows_from_dataset(dataset: str,\n",
    "                             column_names: tuple,\n",
    "                             *args,\n",
    "                             num_samples: int = 2000,\n",
    "                             seed: int = 121,\n",
    "                             **kwargs) -> pd.DataFrame:\n",
    "    if not isinstance(column_names, tuple):\n",
    "        raise Exception(\"Column names need to be a list of column names as strings.\")\n",
    "    try:\n",
    "        dataset = load_dataset(dataset, *args, **kwargs)\n",
    "    except Exception as e:\n",
    "        print(\"Could NOT load dataset for {0}\".format(dataset))\n",
    "        raise Exception(\"Error while loading dataset {}\".format(e))\n",
    "    shuffled_dataset = dataset.shuffle(seed=seed)\n",
    "    df = pd.DataFrame(shuffled_dataset[:num_samples])\n",
    "    try:\n",
    "        return df[list(column_names)]\n",
    "    except KeyError as e:\n",
    "        raise e"
   ]
  },
  {
   "cell_type": "markdown",
   "metadata": {},
   "source": [
    "### Squad Dataset"
   ]
  },
  {
   "cell_type": "code",
   "execution_count": 17,
   "metadata": {},
   "outputs": [],
   "source": [
    "dataset_name = \"squad\"\n",
    "configs = None\n",
    "column_tuple = (\"question\", \"context\", \"answers\")\n",
    "\n",
    "squad_qa_dataset = sample_rows_from_dataset(dataset_name, column_tuple, split=\"validation\")"
   ]
  },
  {
   "cell_type": "code",
   "execution_count": 18,
   "metadata": {},
   "outputs": [],
   "source": [
    "squad_qa_dataset = squad_qa_dataset.head(250)"
   ]
  },
  {
   "cell_type": "code",
   "execution_count": 19,
   "metadata": {},
   "outputs": [],
   "source": [
    "answers = []\n",
    "\n",
    "for i in range(len(squad_qa_dataset)):\n",
    "    curr_ans_list = squad_qa_dataset['answers'][i]['text']\n",
    "    curr_ans = max(curr_ans_list, key = len)\n",
    "    answers.append(curr_ans)\n",
    "    \n",
    "squad_qa_dataset['answers'] = answers"
   ]
  },
  {
   "cell_type": "markdown",
   "metadata": {},
   "source": [
    "### Pubmed Biology Dataset"
   ]
  },
  {
   "cell_type": "code",
   "execution_count": 20,
   "metadata": {},
   "outputs": [],
   "source": [
    "dataset_name = \"pubmed_qa\"\n",
    "config = \"pqa_labeled\"\n",
    "column_tuple = (\"question\", \"context\", \"long_answer\")\n",
    "\n",
    "pubmed_qa_dataset = sample_rows_from_dataset(dataset_name, column_tuple, config, split=\"train\")\n",
    "\n",
    "contexts_strings = []\n",
    "\n",
    "for i in range(len(pubmed_qa_dataset)):\n",
    "    contexts_strings.append(' '.join(pubmed_qa_dataset[\"context\"][i]['contexts']))\n",
    "    \n",
    "pubmed_qa_dataset['context'] = contexts_strings\n",
    "pubmed_qa_dataset = pubmed_qa_dataset.rename(columns={\"long_answer\": \"answers\"})"
   ]
  },
  {
   "cell_type": "code",
   "execution_count": 21,
   "metadata": {},
   "outputs": [],
   "source": [
    "pubmed_qa_dataset = pubmed_qa_dataset.head(250)"
   ]
  },
  {
   "cell_type": "markdown",
   "metadata": {},
   "source": [
    "### BioASQ dataset"
   ]
  },
  {
   "cell_type": "code",
   "execution_count": 30,
   "metadata": {},
   "outputs": [
    {
     "name": "stderr",
     "output_type": "stream",
     "text": [
      "Downloading readme: 100%|██████████| 14.0k/14.0k [00:00<00:00, 40.1MB/s]\n",
      "Downloading data: 100%|██████████| 7.12G/7.12G [09:22<00:00, 12.7MB/s]\n",
      "Downloading data files: 100%|██████████| 1/1 [09:22<00:00, 562.45s/it]\n",
      "Extracting data files: 100%|██████████| 1/1 [01:16<00:00, 76.97s/it]\n",
      "Generating train split: 14100000 examples [01:29, 158196.47 examples/s]\n"
     ]
    }
   ],
   "source": [
    "dataset_name = \"BeIR/bioasq-generated-queries\"\n",
    "column_tuple = (\"text\", \"query\")\n",
    "\n",
    "bioasq_qa_dataset = sample_rows_from_dataset(dataset_name, column_tuple, split=\"train\")\n",
    "bioasq_qa_dataset = bioasq_qa_dataset.rename(columns={\"text\": \"context\", \"query\": \"question\"})\n",
    "bioasq_qa_dataset = bioasq_qa_dataset[[\"question\", \"context\"]]"
   ]
  },
  {
   "cell_type": "markdown",
   "metadata": {},
   "source": [
    "### cuad (legal) dataset"
   ]
  },
  {
   "cell_type": "code",
   "execution_count": 23,
   "metadata": {},
   "outputs": [],
   "source": [
    "dataset_name = \"cuad\"\n",
    "column_tuple = (\"question\", \"context\", \"answers\")\n",
    "\n",
    "cuad_qa_dataset = sample_rows_from_dataset(dataset_name, column_tuple, split=\"train\")"
   ]
  },
  {
   "cell_type": "code",
   "execution_count": 24,
   "metadata": {},
   "outputs": [],
   "source": [
    "answers = []\n",
    "\n",
    "for i in range(len(cuad_qa_dataset)):\n",
    "    curr_ans_list = cuad_qa_dataset['answers'][i]['text']\n",
    "    if len(curr_ans_list)!=0:\n",
    "        curr_ans = max(curr_ans_list, key = len)\n",
    "    else:\n",
    "        curr_ans = \"\"\n",
    "    answers.append(curr_ans)\n",
    "    \n",
    "cuad_qa_dataset['answers'] = answers"
   ]
  },
  {
   "cell_type": "code",
   "execution_count": 25,
   "metadata": {},
   "outputs": [],
   "source": [
    "cuad_qa_dataset = cuad_qa_dataset[cuad_qa_dataset[\"answers\"]!=\"\"][:250]"
   ]
  },
  {
   "cell_type": "code",
   "execution_count": null,
   "metadata": {},
   "outputs": [],
   "source": [
    "dataset_name = \"cuad\"\n",
    "column_tuple = (\"question\", \"context\", \"answers\")\n",
    "\n",
    "cuad_qa_dataset = sample_rows_from_dataset(dataset_name, column_tuple, split=\"train\")"
   ]
  },
  {
   "cell_type": "markdown",
   "metadata": {},
   "source": [
    "### SciQ"
   ]
  },
  {
   "cell_type": "code",
   "execution_count": 27,
   "metadata": {},
   "outputs": [
    {
     "name": "stderr",
     "output_type": "stream",
     "text": [
      "Downloading builder script: 100%|██████████| 3.56k/3.56k [00:00<00:00, 11.9MB/s]\n",
      "Downloading metadata: 100%|██████████| 1.81k/1.81k [00:00<00:00, 16.6MB/s]\n",
      "Downloading readme: 100%|██████████| 6.84k/6.84k [00:00<00:00, 14.9MB/s]\n",
      "Downloading data: 100%|██████████| 2.82M/2.82M [00:00<00:00, 4.20MB/s]\n",
      "Generating train split: 100%|██████████| 11679/11679 [00:00<00:00, 42873.94 examples/s]\n",
      "Generating validation split: 100%|██████████| 1000/1000 [00:00<00:00, 52097.33 examples/s]\n",
      "Generating test split: 100%|██████████| 1000/1000 [00:00<00:00, 52061.12 examples/s]\n"
     ]
    }
   ],
   "source": [
    "dataset_name = \"sciq\"\n",
    "column_tuple = (\"question\", \"support\", \"correct_answer\")\n",
    "\n",
    "sciq_qa_dataset = sample_rows_from_dataset(dataset_name, column_tuple, split=\"test\")"
   ]
  },
  {
   "cell_type": "code",
   "execution_count": 28,
   "metadata": {},
   "outputs": [],
   "source": [
    "sciq_qa_dataset = sciq_qa_dataset.rename(columns={\"support\": \"context\", \"correct_answer\": \"answers\"})\n"
   ]
  },
  {
   "cell_type": "code",
   "execution_count": 30,
   "metadata": {},
   "outputs": [],
   "source": [
    "sciq_qa_dataset = sciq_qa_dataset.head(250)"
   ]
  },
  {
   "cell_type": "markdown",
   "metadata": {},
   "source": [
    "### CovidQA Bio"
   ]
  },
  {
   "cell_type": "code",
   "execution_count": 31,
   "metadata": {},
   "outputs": [
    {
     "name": "stderr",
     "output_type": "stream",
     "text": [
      "Downloading builder script: 100%|██████████| 4.80k/4.80k [00:00<00:00, 12.4MB/s]\n",
      "Downloading metadata: 100%|██████████| 1.95k/1.95k [00:00<00:00, 12.9MB/s]\n",
      "Downloading readme: 100%|██████████| 5.61k/5.61k [00:00<00:00, 16.9MB/s]\n",
      "Downloading data: 4.42MB [00:01, 4.23MB/s]                            \n",
      "Generating train split: 100%|██████████| 2019/2019 [00:00<00:00, 6526.84 examples/s]\n"
     ]
    }
   ],
   "source": [
    "dataset_name = \"covid_qa_deepset\"\n",
    "column_tuple = (\"question\", \"context\", \"answers\")\n",
    "\n",
    "covidqa_qa_dataset = sample_rows_from_dataset(dataset_name, column_tuple, split=\"train\")"
   ]
  },
  {
   "cell_type": "code",
   "execution_count": 33,
   "metadata": {},
   "outputs": [
    {
     "data": {
      "text/plain": [
       "{'text': ['zanamivir (Relenza) and oseltamivir (Tamiflu)'],\n",
       " 'answer_start': [2356]}"
      ]
     },
     "execution_count": 33,
     "metadata": {},
     "output_type": "execute_result"
    }
   ],
   "source": [
    "covidqa_qa_dataset['answers'][0]"
   ]
  },
  {
   "cell_type": "code",
   "execution_count": 34,
   "metadata": {},
   "outputs": [],
   "source": [
    "answers = []\n",
    "\n",
    "for i in range(len(covidqa_qa_dataset)):\n",
    "    curr_ans_list = covidqa_qa_dataset['answers'][i]['text']\n",
    "    if len(curr_ans_list)!=0:\n",
    "        curr_ans = max(curr_ans_list, key = len)\n",
    "    else:\n",
    "        curr_ans = \"\"\n",
    "    answers.append(curr_ans)\n",
    "    \n",
    "covidqa_qa_dataset['answers'] = answers"
   ]
  },
  {
   "cell_type": "code",
   "execution_count": 35,
   "metadata": {},
   "outputs": [],
   "source": [
    "covidqa_qa_dataset = covidqa_qa_dataset.head(250)"
   ]
  },
  {
   "cell_type": "markdown",
   "metadata": {},
   "source": [
    "### Combining datasets"
   ]
  },
  {
   "cell_type": "code",
   "execution_count": 37,
   "metadata": {},
   "outputs": [],
   "source": [
    "cuad_qa_dataset[\"domain\"] = \"legal\"\n",
    "#bioasq_qa_dataset[\"domain\"] = \"bio\"\n",
    "pubmed_qa_dataset[\"domain\"] = \"bio\"\n",
    "squad_qa_dataset[\"domain\"] = \"None\"\n",
    "sciq_qa_dataset[\"domain\"] = \"science\"\n",
    "covidqa_qa_dataset[\"domain\"] = \"bio\""
   ]
  },
  {
   "cell_type": "code",
   "execution_count": 38,
   "metadata": {},
   "outputs": [
    {
     "data": {
      "text/plain": [
       "{'squad_v2': ['mrm8488/longformer-base-4096-finetuned-squadv2',\n",
       "  'allenai/unifiedqa-t5-base',\n",
       "  'ixa-ehu/SciBERT-SQuAD-QuAC'],\n",
       " 'hotpot_qa': ['AdapterHub/roberta-base-pf-hotpotqa'],\n",
       " 'cuad': ['Rakib/roberta-base-on-cuad', 'akdeniz27/deberta-v2-xlarge-cuad'],\n",
       " 'trivia_qa': ['allenai/longformer-large-4096-finetuned-triviaqa'],\n",
       " 'squad': ['ozcangundes/T5-base-for-BioQA',\n",
       "  'MaRiOrOsSi/t5-base-finetuned-question-answering',\n",
       "  'vanadhi/roberta-base-fiqa-flm-sq-flit'],\n",
       " 'BeIR/bioasq-generated-queries': ['ozcangundes/T5-base-for-BioQA'],\n",
       " 'duorc': ['MaRiOrOsSi/t5-base-finetuned-question-answering',\n",
       "  'MaRiOrOsSi/t5-base-finetuned-question-answering'],\n",
       " 'pubmed_qa': ['razent/SciFive-base-Pubmed_PMC', 'microsoft/biogpt'],\n",
       " 'zhengyun21/PMC-Patients': ['razent/SciFive-base-Pubmed_PMC'],\n",
       " 'boolq': ['allenai/unifiedqa-t5-base'],\n",
       " 'race': ['allenai/unifiedqa-t5-base'],\n",
       " 'quoref': ['allenai/unifiedqa-t5-base'],\n",
       " 'ropes': ['allenai/unifiedqa-t5-base'],\n",
       " 'drop': ['allenai/unifiedqa-t5-base'],\n",
       " 'sagnikrayc/mctest': ['allenai/unifiedqa-t5-base'],\n",
       " 'qasc': ['allenai/unifiedqa-t5-base'],\n",
       " 'math_qa': ['AlexWortega/taskGPT2-xl-v0.2a'],\n",
       " 'gsm8k': ['AlexWortega/taskGPT2-xl-v0.2a'],\n",
       " 'covid_qa_deepset': ['Sarmila/pubmed-bert-squad-covidqa'],\n",
       " 'quac': ['ixa-ehu/SciBERT-SQuAD-QuAC']}"
      ]
     },
     "execution_count": 38,
     "metadata": {},
     "output_type": "execute_result"
    }
   ],
   "source": [
    "dataset_model_dict"
   ]
  },
  {
   "cell_type": "code",
   "execution_count": 41,
   "metadata": {},
   "outputs": [],
   "source": [
    "science_list = dataset_model_dict['quac'] + dataset_model_dict['zhengyun21/PMC-Patients']"
   ]
  },
  {
   "cell_type": "code",
   "execution_count": 43,
   "metadata": {},
   "outputs": [],
   "source": [
    "bio_list = dataset_model_dict['BeIR/bioasq-generated-queries'] + dataset_model_dict['pubmed_qa'] + dataset_model_dict['covid_qa_deepset']"
   ]
  },
  {
   "cell_type": "code",
   "execution_count": 53,
   "metadata": {},
   "outputs": [],
   "source": [
    "cuad_qa_dataset['models'] = \"\"\n",
    "pubmed_qa_dataset['models'] = \"\"\n",
    "squad_qa_dataset['models'] = \"\"\n",
    "sciq_qa_dataset['models'] = \"\"\n",
    "covidqa_qa_dataset['models'] = \"\" "
   ]
  },
  {
   "cell_type": "code",
   "execution_count": 54,
   "metadata": {},
   "outputs": [],
   "source": [
    "cuad_qa_dataset['models'] = cuad_qa_dataset['models'].apply(lambda x: dataset_model_dict['cuad'])\n",
    "pubmed_qa_dataset['models'] = pubmed_qa_dataset['models'].apply(lambda x: dataset_model_dict['pubmed_qa'])\n",
    "squad_qa_dataset['models'] = squad_qa_dataset['models'].apply(lambda x: dataset_model_dict['squad'])\n",
    "sciq_qa_dataset['models'] = sciq_qa_dataset['models'].apply(lambda x: science_list)\n",
    "covidqa_qa_dataset['models'] = covidqa_qa_dataset['models'].apply(lambda x: bio_list)\n"
   ]
  },
  {
   "cell_type": "code",
   "execution_count": 55,
   "metadata": {},
   "outputs": [],
   "source": [
    "eval_dataset = pd.concat([cuad_qa_dataset, pubmed_qa_dataset, squad_qa_dataset], ignore_index=True)"
   ]
  },
  {
   "cell_type": "code",
   "execution_count": 57,
   "metadata": {},
   "outputs": [
    {
     "data": {
      "text/html": [
       "<div>\n",
       "<style scoped>\n",
       "    .dataframe tbody tr th:only-of-type {\n",
       "        vertical-align: middle;\n",
       "    }\n",
       "\n",
       "    .dataframe tbody tr th {\n",
       "        vertical-align: top;\n",
       "    }\n",
       "\n",
       "    .dataframe thead th {\n",
       "        text-align: right;\n",
       "    }\n",
       "</style>\n",
       "<table border=\"1\" class=\"dataframe\">\n",
       "  <thead>\n",
       "    <tr style=\"text-align: right;\">\n",
       "      <th></th>\n",
       "      <th>question</th>\n",
       "      <th>context</th>\n",
       "      <th>answers</th>\n",
       "      <th>domain</th>\n",
       "      <th>models</th>\n",
       "    </tr>\n",
       "  </thead>\n",
       "  <tbody>\n",
       "    <tr>\n",
       "      <th>0</th>\n",
       "      <td>Highlight the parts (if any) of this contract ...</td>\n",
       "      <td>Exhibit 99.1\\n\\nEXECUTION VERSION\\n\\nMETLIFE, ...</td>\n",
       "      <td>Deutsche Bank</td>\n",
       "      <td>legal</td>\n",
       "      <td>[Rakib/roberta-base-on-cuad, akdeniz27/deberta...</td>\n",
       "    </tr>\n",
       "    <tr>\n",
       "      <th>1</th>\n",
       "      <td>Highlight the parts (if any) of this contract ...</td>\n",
       "      <td>Execution version\\n\\n\\n\\n  Amendment n° 01   t...</td>\n",
       "      <td>\"Repairer'</td>\n",
       "      <td>legal</td>\n",
       "      <td>[Rakib/roberta-base-on-cuad, akdeniz27/deberta...</td>\n",
       "    </tr>\n",
       "    <tr>\n",
       "      <th>2</th>\n",
       "      <td>Highlight the parts (if any) of this contract ...</td>\n",
       "      <td>Exhibit 10.1\\n\\n\\n\\nPROMOTION AGREEMENT\\n\\nby ...</td>\n",
       "      <td>King</td>\n",
       "      <td>legal</td>\n",
       "      <td>[Rakib/roberta-base-on-cuad, akdeniz27/deberta...</td>\n",
       "    </tr>\n",
       "    <tr>\n",
       "      <th>3</th>\n",
       "      <td>Highlight the parts (if any) of this contract ...</td>\n",
       "      <td>Exhibit 10.1 MASTER FRANCHISE AGREEMENT This M...</td>\n",
       "      <td>If third party franchisees are operating the S...</td>\n",
       "      <td>legal</td>\n",
       "      <td>[Rakib/roberta-base-on-cuad, akdeniz27/deberta...</td>\n",
       "    </tr>\n",
       "    <tr>\n",
       "      <th>4</th>\n",
       "      <td>Highlight the parts (if any) of this contract ...</td>\n",
       "      <td>Exhibit 10.18   MAINTENANCE AGREEMENT   MAINTE...</td>\n",
       "      <td>The Provider will obtain and maintain appropri...</td>\n",
       "      <td>legal</td>\n",
       "      <td>[Rakib/roberta-base-on-cuad, akdeniz27/deberta...</td>\n",
       "    </tr>\n",
       "    <tr>\n",
       "      <th>5</th>\n",
       "      <td>Highlight the parts (if any) of this contract ...</td>\n",
       "      <td>[ * ] = Certain confidential information conta...</td>\n",
       "      <td>Each of Astellas and FG shall retain its recor...</td>\n",
       "      <td>legal</td>\n",
       "      <td>[Rakib/roberta-base-on-cuad, akdeniz27/deberta...</td>\n",
       "    </tr>\n",
       "    <tr>\n",
       "      <th>6</th>\n",
       "      <td>Highlight the parts (if any) of this contract ...</td>\n",
       "      <td>CONTENT LICENSE AGREEMENT\\n\\n\\n\\nTHIS AGREEMEN...</td>\n",
       "      <td>CONTENT LICENSE AGREEMENT</td>\n",
       "      <td>legal</td>\n",
       "      <td>[Rakib/roberta-base-on-cuad, akdeniz27/deberta...</td>\n",
       "    </tr>\n",
       "    <tr>\n",
       "      <th>7</th>\n",
       "      <td>Highlight the parts (if any) of this contract ...</td>\n",
       "      <td>JOINT DEVELOPMENT AND MARKETING AGREEMENT\\n\\nB...</td>\n",
       "      <td>Subject to Article 22.2, this Agreement shall ...</td>\n",
       "      <td>legal</td>\n",
       "      <td>[Rakib/roberta-base-on-cuad, akdeniz27/deberta...</td>\n",
       "    </tr>\n",
       "    <tr>\n",
       "      <th>8</th>\n",
       "      <td>Highlight the parts (if any) of this contract ...</td>\n",
       "      <td>Exhibit 10.1   COLLABORATION AGREEMENT   THIS ...</td>\n",
       "      <td>CAPSUGEL shall pay to CARDAX a royalty equal t...</td>\n",
       "      <td>legal</td>\n",
       "      <td>[Rakib/roberta-base-on-cuad, akdeniz27/deberta...</td>\n",
       "    </tr>\n",
       "    <tr>\n",
       "      <th>9</th>\n",
       "      <td>Highlight the parts (if any) of this contract ...</td>\n",
       "      <td>EXHIBIT 10.3\\n\\n                         INTEL...</td>\n",
       "      <td>Neither of the parties hereto may assign its r...</td>\n",
       "      <td>legal</td>\n",
       "      <td>[Rakib/roberta-base-on-cuad, akdeniz27/deberta...</td>\n",
       "    </tr>\n",
       "  </tbody>\n",
       "</table>\n",
       "</div>"
      ],
      "text/plain": [
       "                                            question  \\\n",
       "0  Highlight the parts (if any) of this contract ...   \n",
       "1  Highlight the parts (if any) of this contract ...   \n",
       "2  Highlight the parts (if any) of this contract ...   \n",
       "3  Highlight the parts (if any) of this contract ...   \n",
       "4  Highlight the parts (if any) of this contract ...   \n",
       "5  Highlight the parts (if any) of this contract ...   \n",
       "6  Highlight the parts (if any) of this contract ...   \n",
       "7  Highlight the parts (if any) of this contract ...   \n",
       "8  Highlight the parts (if any) of this contract ...   \n",
       "9  Highlight the parts (if any) of this contract ...   \n",
       "\n",
       "                                             context  \\\n",
       "0  Exhibit 99.1\\n\\nEXECUTION VERSION\\n\\nMETLIFE, ...   \n",
       "1  Execution version\\n\\n\\n\\n  Amendment n° 01   t...   \n",
       "2  Exhibit 10.1\\n\\n\\n\\nPROMOTION AGREEMENT\\n\\nby ...   \n",
       "3  Exhibit 10.1 MASTER FRANCHISE AGREEMENT This M...   \n",
       "4  Exhibit 10.18   MAINTENANCE AGREEMENT   MAINTE...   \n",
       "5  [ * ] = Certain confidential information conta...   \n",
       "6  CONTENT LICENSE AGREEMENT\\n\\n\\n\\nTHIS AGREEMEN...   \n",
       "7  JOINT DEVELOPMENT AND MARKETING AGREEMENT\\n\\nB...   \n",
       "8  Exhibit 10.1   COLLABORATION AGREEMENT   THIS ...   \n",
       "9  EXHIBIT 10.3\\n\\n                         INTEL...   \n",
       "\n",
       "                                             answers domain  \\\n",
       "0                                      Deutsche Bank  legal   \n",
       "1                                         \"Repairer'  legal   \n",
       "2                                               King  legal   \n",
       "3  If third party franchisees are operating the S...  legal   \n",
       "4  The Provider will obtain and maintain appropri...  legal   \n",
       "5  Each of Astellas and FG shall retain its recor...  legal   \n",
       "6                          CONTENT LICENSE AGREEMENT  legal   \n",
       "7  Subject to Article 22.2, this Agreement shall ...  legal   \n",
       "8  CAPSUGEL shall pay to CARDAX a royalty equal t...  legal   \n",
       "9  Neither of the parties hereto may assign its r...  legal   \n",
       "\n",
       "                                              models  \n",
       "0  [Rakib/roberta-base-on-cuad, akdeniz27/deberta...  \n",
       "1  [Rakib/roberta-base-on-cuad, akdeniz27/deberta...  \n",
       "2  [Rakib/roberta-base-on-cuad, akdeniz27/deberta...  \n",
       "3  [Rakib/roberta-base-on-cuad, akdeniz27/deberta...  \n",
       "4  [Rakib/roberta-base-on-cuad, akdeniz27/deberta...  \n",
       "5  [Rakib/roberta-base-on-cuad, akdeniz27/deberta...  \n",
       "6  [Rakib/roberta-base-on-cuad, akdeniz27/deberta...  \n",
       "7  [Rakib/roberta-base-on-cuad, akdeniz27/deberta...  \n",
       "8  [Rakib/roberta-base-on-cuad, akdeniz27/deberta...  \n",
       "9  [Rakib/roberta-base-on-cuad, akdeniz27/deberta...  "
      ]
     },
     "execution_count": 57,
     "metadata": {},
     "output_type": "execute_result"
    }
   ],
   "source": [
    "eval_dataset.head(10)"
   ]
  },
  {
   "cell_type": "code",
   "execution_count": 58,
   "metadata": {},
   "outputs": [],
   "source": [
    "eval_dataset.to_csv(\"eval_dataset_v2.csv\")"
   ]
  }
 ],
 "metadata": {
  "kernelspec": {
   "display_name": "11-632",
   "language": "python",
   "name": "python3"
  },
  "language_info": {
   "codemirror_mode": {
    "name": "ipython",
    "version": 3
   },
   "file_extension": ".py",
   "mimetype": "text/x-python",
   "name": "python",
   "nbconvert_exporter": "python",
   "pygments_lexer": "ipython3",
   "version": "3.9.18"
  },
  "orig_nbformat": 4
 },
 "nbformat": 4,
 "nbformat_minor": 2
}
